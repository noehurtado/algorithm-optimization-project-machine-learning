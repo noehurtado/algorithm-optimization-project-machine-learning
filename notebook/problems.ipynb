{
 "cells": [
  {
   "attachments": {},
   "cell_type": "markdown",
   "id": "27b09e13",
   "metadata": {},
   "source": [
    "# Optimization of Algorithms problems"
   ]
  },
  {
   "attachments": {},
   "cell_type": "markdown",
   "id": "ed05e9bf",
   "metadata": {},
   "source": [
    "## Exercise 1\n",
    "### Code Optimization for Text Processing\n",
    "\n",
    "You are provided with a text processing code to perform the following operations:\n",
    "\n",
    "1. Convert all text to lowercase.\n",
    "2. Remove punctuation marks.\n",
    "3. Count the frequency of each word.\n",
    "4. Show the 5 most common words.\n",
    "\n",
    "The code works, but it is inefficient and can be optimized. Your task is to identify areas that can be improved and rewrite those parts to make the code more efficient and readable."
   ]
  },
  {
   "cell_type": "code",
   "execution_count": 3,
   "id": "8467465b",
   "metadata": {},
   "outputs": [
    {
     "name": "stdout",
     "output_type": "stream",
     "text": [
      "'the': 5 times\n",
      "'of': 3 times\n",
      "'in': 2 times\n",
      "'a': 2 times\n",
      "'she': 2 times\n"
     ]
    }
   ],
   "source": [
    "import string\n",
    "\n",
    "def process_text(text):\n",
    "    # Text to lowercase\n",
    "    text = text.lower()\n",
    "\n",
    "    # Remove punctuation\n",
    "    for p in string.punctuation:\n",
    "        text = text.replace(p, \"\")\n",
    "\n",
    "    # Split text into words\n",
    "    words = text.split()\n",
    "\n",
    "    # Count frecuencies\n",
    "    frequencies = {}\n",
    "    for w in words:\n",
    "        if w in frequencies:\n",
    "            frequencies[w] += 1\n",
    "        else:\n",
    "            frequencies[w] = 1\n",
    "\n",
    "    sorted_frequencies = sorted(frequencies.items(), key = lambda x: x[1], reverse = True)\n",
    "\n",
    "    # Get 5 most-common words\n",
    "    top_5 = sorted_frequencies[:5]\n",
    "    \n",
    "    for w, frequency in top_5:\n",
    "        print(f\"'{w}': {frequency} times\")\n",
    "\n",
    "text = \"\"\"\n",
    "    In the heart of the city, Emily discovered a quaint little café, hidden away from the bustling streets. \n",
    "    The aroma of freshly baked pastries wafted through the air, drawing in passersby. As she sipped on her latte, \n",
    "    she noticed an old bookshelf filled with classics, creating a cozy atmosphere that made her lose track of time.\n",
    "\"\"\"\n",
    "process_text(text)"
   ]
  },
  {
   "cell_type": "markdown",
   "id": "29040779",
   "metadata": {},
   "source": [
    "Points to optimize:\n",
    "\n",
    "1. **Removal of punctuation marks**: Using `replace` in a loop can be inefficient, especially with long texts. Look for a more efficient way to remove punctuation marks.\n",
    "2. **Frequency count**: The code checks for the existence of each word in the dictionary and then updates its count. This can be done more efficiently with certain data structures in Python.\n",
    "3. **Sort and select:** Consider if there is a more direct or efficient way to get the 5 most frequent words without sorting all the words.\n",
    "4. **Modularity**: Break the code into smaller functions so that each one performs a specific task. This will not only optimize performance, but also make the code more readable and maintainable."
   ]
  },
  {
   "cell_type": "code",
   "execution_count": 28,
   "id": "57cd6641",
   "metadata": {},
   "outputs": [],
   "source": [
    "import string\n",
    "from collections import Counter \n",
    "\n",
    "# This is better than process_text_optimized():\n",
    "def pt_optimized(t):\n",
    "    return Counter(t.translate(str.maketrans('', '', string.punctuation)).lower().split()).most_common(5)\n",
    "\n",
    "# How it works?\n",
    "# 1. str.maketrans('', '', string.punctuation) -> str.maketrans('looked values', 'replacement values', 'remove values') \n",
    "#     since in this case, we don't want to change any value, but we want them to be removed, this function creates a dictionary with the\n",
    "#     values to be removed to 'None'.\n",
    "# 2. t.translate(str.maketrans('', '', string.punctuation)) -> Makes the changes based on our dictionary created with str.maketrans\n",
    "#     in this case, it removes all the punctuation.\n",
    "# 3. .lower().split() -> Initially .lower(), change all letters to lower case and then .split(), creates a list with all the words \n",
    "#     from our original text. --> Why do we lower them? To ensure that 'The' and 'the' are counted as one, since 'T' and 't' have a \n",
    "#     diffrent unicode number, which is translated to a different string in python. \n",
    "# 4. Counter().most_common(5) -> Counter() creates a counter for each word in the list and most_common(5), give us the five most \n",
    "#     common words found on the list.  \n",
    "\n",
    "# # Optimized to one line (option1)\n",
    "# def process_text_optimized(text):\n",
    "#     return Counter(''.join(c for c in text if c not in string.punctuation).lower().split()).most_common(5)\n",
    "\n",
    "# # Initial development\n",
    "# def process_text1(text):\n",
    "#     new = ''\n",
    "    \n",
    "#     for char in text:\n",
    "#         if char not in string.punctuation:\n",
    "#             new += char.lower()\n",
    "    \n",
    "#     print(Counter(new.split()).most_common(5))"
   ]
  },
  {
   "cell_type": "code",
   "execution_count": 6,
   "id": "2c66a51a-78ad-4573-8fd9-375db0cc65a2",
   "metadata": {},
   "outputs": [
    {
     "data": {
      "text/plain": [
       "[('the', 5), ('of', 3), ('in', 2), ('a', 2), ('she', 2)]"
      ]
     },
     "execution_count": 6,
     "metadata": {},
     "output_type": "execute_result"
    }
   ],
   "source": [
    "pt_optimized(text)"
   ]
  },
  {
   "attachments": {},
   "cell_type": "markdown",
   "id": "011996bc",
   "metadata": {},
   "source": [
    "## Exercise 2\n",
    "### Code Optimization for List Processing\n",
    "\n",
    "You have been given a code that performs operations on a list of numbers for:\n",
    "\n",
    "1. Filter out even numbers.\n",
    "2. Duplicate each number.\n",
    "3. Add all numbers.\n",
    "4. Check if the result is a prime number.\n",
    "\n",
    "The code provided achieves its goal, but it may be inefficient. Your task is to identify and improve the parts of the code to increase its efficiency."
   ]
  },
  {
   "cell_type": "code",
   "execution_count": 8,
   "id": "783d03a0",
   "metadata": {},
   "outputs": [
    {
     "name": "stdout",
     "output_type": "stream",
     "text": [
      "Result: 60, ¿Prime? No\n"
     ]
    }
   ],
   "source": [
    "import math\n",
    "\n",
    "def is_prime(n):\n",
    "    if n <= 1:\n",
    "        return False\n",
    "    for i in range(2, int(math.sqrt(n)) + 1):\n",
    "        if n % i == 0:\n",
    "            return False\n",
    "    return True\n",
    "\n",
    "def process_list(list_):\n",
    "    filtered_list = []\n",
    "    for num in list_:\n",
    "        if num % 2 == 0:\n",
    "            filtered_list.append(num)\n",
    "    \n",
    "    duplicate_list = []\n",
    "    for num in filtered_list:\n",
    "        duplicate_list.append(num * 2)\n",
    "        \n",
    "    sum = 0\n",
    "    for num in duplicate_list:\n",
    "        sum += num\n",
    "\n",
    "    prime = is_prime(sum)\n",
    "    \n",
    "    return sum, prime\n",
    "\n",
    "list_ = [1, 2, 3, 4, 5, 6, 7, 8, 9, 10]\n",
    "result, result_prime = process_list(list_)\n",
    "print(f\"Result: {result}, ¿Prime? {'Yes' if result_prime else 'No'}\")"
   ]
  },
  {
   "cell_type": "markdown",
   "id": "128d564e",
   "metadata": {},
   "source": [
    "Points to optimize:\n",
    "\n",
    "1. **Filter numbers**: The code goes through the original list to filter out even numbers. Consider a more efficient way to filter the list.\n",
    "2. **Duplication**: The list is traversed multiple times. Is there a way to do this more efficiently?\n",
    "3. **Summing**: The numbers in a list are summed through a loop. Python has built-in functions that can optimize this.\n",
    "4. **Function `is_prime`**: While this function is relatively efficient, investigate if there are ways to make it even faster.\n",
    "5. **Modularity**: Consider breaking the code into smaller functions, each focused on a specific task."
   ]
  },
  {
   "cell_type": "code",
   "execution_count": 45,
   "id": "f40e35d6",
   "metadata": {},
   "outputs": [],
   "source": [
    "# TODO\n",
    "def is_prime(n):\n",
    "    if n <= 1:\n",
    "        return False\n",
    "    for i in range(2, int(math.sqrt(n)) + 1):\n",
    "        if n % i == 0:\n",
    "            return False\n",
    "    return True\n",
    "\n",
    "def is_prime_optimized(numbers):\n",
    "    total = sum([n*2 for n in numbers if n % 2 == 0])\n",
    "    prime = is_prime(total)\n",
    "    return total, prime"
   ]
  },
  {
   "cell_type": "markdown",
   "id": "ebd84e42-f7da-4fda-93c1-a95b64d31370",
   "metadata": {
    "jp-MarkdownHeadingCollapsed": true
   },
   "source": [
    "***Explaining the reasoning of ```process_list_optimized```***\n",
    "\n",
    "Following the same methodology as the original function ```process_list()```, the number achieved through the sum of doubling even numbers will never be a prime number (since this can be divided by 2). Therefore, a simplification to the code would be removing the function ```is_prime()``` and providing an answer to the question by returning the sum of the given list and 'No' as an answer, but I have included the function, as it was part of the original example. "
   ]
  },
  {
   "cell_type": "code",
   "execution_count": 56,
   "id": "d9e4aa2e-25c0-4ba3-be85-eaea0f765111",
   "metadata": {},
   "outputs": [
    {
     "name": "stdout",
     "output_type": "stream",
     "text": [
      "Is the number 60 prime? No\n"
     ]
    }
   ],
   "source": [
    "list_ = [1, 2, 3, 4, 5, 6, 7, 8, 9, 10]\n",
    "\n",
    "r1, r2 = is_prime_optimized(list_)\n",
    "print('Is the number {} prime? {}'.format(r1, 'Yes' if r2 else 'No'))"
   ]
  },
  {
   "attachments": {},
   "cell_type": "markdown",
   "id": "1af70806",
   "metadata": {},
   "source": [
    "Both exercises will help you improve your code performance optimization skills and give you a better understanding of how different data structures and programming techniques can affect the efficiency of your code."
   ]
  }
 ],
 "metadata": {
  "interpreter": {
   "hash": "9248718ffe6ce6938b217e69dbcc175ea21f4c6b28a317e96c05334edae734bb"
  },
  "kernelspec": {
   "display_name": "Python 3 (ipykernel)",
   "language": "python",
   "name": "python3"
  },
  "language_info": {
   "codemirror_mode": {
    "name": "ipython",
    "version": 3
   },
   "file_extension": ".py",
   "mimetype": "text/x-python",
   "name": "python",
   "nbconvert_exporter": "python",
   "pygments_lexer": "ipython3",
   "version": "3.11.7"
  }
 },
 "nbformat": 4,
 "nbformat_minor": 5
}
